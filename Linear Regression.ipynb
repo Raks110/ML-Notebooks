{
 "cells": [
  {
   "cell_type": "code",
   "execution_count": 45,
   "metadata": {},
   "outputs": [],
   "source": [
    "import numpy as np\n",
    "import pandas as pd\n",
    "import matplotlib.pyplot as plt\n",
    "import seaborn as sns\n",
    "from sklearn.datasets import load_boston\n",
    "from sklearn.model_selection import train_test_split"
   ]
  },
  {
   "cell_type": "code",
   "execution_count": 46,
   "metadata": {},
   "outputs": [],
   "source": [
    "def get_features_and_labels():\n",
    "    datapd = load_boston()\n",
    "    data = pd.DataFrame(datapd.data, columns=datapd.feature_names)\n",
    "    \n",
    "    X = data\n",
    "    constants = [1 for i in range(X.shape[0])]\n",
    "    X.insert(0, \"Constants\", constants)\n",
    "    \n",
    "    Y = datapd.target\n",
    "    Y = Y.reshape([Y.shape[0],1])\n",
    "    return X,Y"
   ]
  },
  {
   "cell_type": "code",
   "execution_count": 47,
   "metadata": {},
   "outputs": [],
   "source": [
    "def split_data(X, Y, test_size):\n",
    "    X_train, X_test, Y_train, Y_test = train_test_split(X, Y, test_size=test_size)\n",
    "    return X_train, X_test, Y_train, Y_test"
   ]
  },
  {
   "cell_type": "code",
   "execution_count": 48,
   "metadata": {},
   "outputs": [],
   "source": [
    "def init_parameters(NUM_FEATURES):\n",
    "    return np.zeros((NUM_FEATURES, 1))"
   ]
  },
  {
   "cell_type": "code",
   "execution_count": 49,
   "metadata": {},
   "outputs": [],
   "source": [
    "def get_predictions(X, Parameters):\n",
    "    return np.matmul(X, Parameters)"
   ]
  },
  {
   "cell_type": "code",
   "execution_count": 50,
   "metadata": {},
   "outputs": [],
   "source": [
    "def mean_squared_error(Y_pred, Y_true):\n",
    "    differences = Y_pred - Y_true\n",
    "    \n",
    "    squared_error = differences**2\n",
    "    sum_squared = squared_error.sum()\n",
    "    \n",
    "    num_examples = Y_pred.shape[0]\n",
    "    \n",
    "    mean_sq_err = sum_squared/(2 * num_examples)\n",
    "    \n",
    "    return mean_sq_err"
   ]
  },
  {
   "cell_type": "code",
   "execution_count": 51,
   "metadata": {},
   "outputs": [],
   "source": [
    "def gradient_descent_single_step(X, Parameters, Y_pred, Y_true, learning_rate = 0.01):\n",
    "    \n",
    "    m = Y_pred.shape[0]\n",
    "    NUM_FEATURES = Parameters.shape[0]\n",
    "    \n",
    "    diff = ( (1/m)*(( np.matmul(X.T,(Y_pred - Y_true)) )) )\n",
    "    diff = diff.reshape([1, diff.shape[0]])\n",
    "    diff = diff.T\n",
    "    Parameters = Parameters - (learning_rate * diff)\n",
    "    \n",
    "    return Parameters"
   ]
  },
  {
   "cell_type": "code",
   "execution_count": 52,
   "metadata": {},
   "outputs": [],
   "source": [
    "def gradient_descent(X, Parameters, Y_true, learning_rate = 0.01, num_iterations = 100):\n",
    "    \n",
    "    Y_pred = get_predictions(X, Parameters)\n",
    "    J_history = np.zeros((num_iterations,1))\n",
    "    \n",
    "    for i in range(num_iterations):\n",
    "        J_history[i] = mean_squared_error(Y_pred, Y_true);\n",
    "        Parameters = gradient_descent_single_step(X, Parameters, Y_pred, Y_true, learning_rate)\n",
    "        Y_pred = get_predictions(X, Parameters)\n",
    "    \n",
    "    plt.plot(range(len(J_history)), J_history, 'r')\n",
    "\n",
    "    plt.title(\"Convergence Graph of Cost Function\")\n",
    "    plt.xlabel(\"Number of Iterations\")\n",
    "    plt.ylabel(\"Cost\")\n",
    "    plt.show()\n",
    "        \n",
    "    return Parameters"
   ]
  },
  {
   "cell_type": "code",
   "execution_count": 53,
   "metadata": {},
   "outputs": [],
   "source": [
    "X,Y = get_features_and_labels()\n",
    "X_train, X_test, Y_train, Y_test = split_data(X, Y, 0.2)\n",
    "parameters = init_parameters(X.shape[1])"
   ]
  },
  {
   "cell_type": "code",
   "execution_count": 54,
   "metadata": {},
   "outputs": [
    {
     "data": {
      "image/png": "[encoded data removed]",
      "text/plain": [
       "<Figure size 432x288 with 1 Axes>"
      ]
     },
     "metadata": {},
     "output_type": "display_data"
    }
   ],
   "source": [
    "parameters = gradient_descent(X_train, parameters, Y_train, 0.0000002, 10000)"
   ]
  },
  {
   "cell_type": "code",
   "execution_count": 55,
   "metadata": {},
   "outputs": [
    {
     "data": {
      "text/plain": [
       "36.925513538974066"
      ]
     },
     "execution_count": 55,
     "metadata": {},
     "output_type": "execute_result"
    }
   ],
   "source": [
    "mean_squared_error(get_predictions(X_test, parameters), Y_test)"
   ]
  }
 ],
 "metadata": {
  "kernelspec": {
   "display_name": "Python 3",
   "language": "python",
   "name": "python3"
  },
  "language_info": {
   "codemirror_mode": {
    "name": "ipython",
    "version": 3
   },
   "file_extension": ".py",
   "mimetype": "text/x-python",
   "name": "python",
   "nbconvert_exporter": "python",
   "pygments_lexer": "ipython3",
   "version": "3.6.4"
  }
 },
 "nbformat": 4,
 "nbformat_minor": 2
}
