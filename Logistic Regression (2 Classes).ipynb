{
 "cells": [
  {
   "cell_type": "code",
   "execution_count": 33,
   "metadata": {},
   "outputs": [],
   "source": [
    "import numpy as np\n",
    "import pandas as pd\n",
    "import matplotlib.pyplot as plt\n",
    "from sklearn.datasets import load_breast_cancer\n",
    "from sklearn.model_selection import train_test_split"
   ]
  },
  {
   "cell_type": "code",
   "execution_count": 34,
   "metadata": {},
   "outputs": [],
   "source": [
    "def sigmoid(z):\n",
    "    return 1/(1+ np.exp(-z))"
   ]
  },
  {
   "cell_type": "code",
   "execution_count": 35,
   "metadata": {},
   "outputs": [],
   "source": [
    "def get_features_and_labels():\n",
    "    datapd = load_breast_cancer()\n",
    "    data = pd.DataFrame(datapd.data, columns=datapd.feature_names)\n",
    "    \n",
    "    X = data\n",
    "    constants = [1 for i in range(X.shape[0])]\n",
    "    X.insert(0, \"Constants\", constants)\n",
    "    \n",
    "    Y = datapd.target\n",
    "    Y = Y.reshape([Y.shape[0],1])\n",
    "    \n",
    "    return X,Y"
   ]
  },
  {
   "cell_type": "code",
   "execution_count": 36,
   "metadata": {},
   "outputs": [],
   "source": [
    "def split_data(X, Y, test_size):\n",
    "    return train_test_split(X, Y, test_size=test_size)"
   ]
  },
  {
   "cell_type": "code",
   "execution_count": 37,
   "metadata": {},
   "outputs": [],
   "source": [
    "def init_parameters(NUM_FEATURES):\n",
    "    return np.zeros((NUM_FEATURES, 1))"
   ]
  },
  {
   "cell_type": "code",
   "execution_count": 38,
   "metadata": {},
   "outputs": [],
   "source": [
    "def get_predictions(X, parameters):\n",
    "    inter = np.matmul(X, parameters)\n",
    "    return sigmoid(inter)"
   ]
  },
  {
   "cell_type": "code",
   "execution_count": 39,
   "metadata": {},
   "outputs": [],
   "source": [
    "def cross_entropy_cost(Y_pred, Y_true):\n",
    "    return -(((1 - Y_true) * np.log(1 - Y_pred)) + (Y_true * np.log(Y_pred))).sum()"
   ]
  },
  {
   "cell_type": "code",
   "execution_count": 40,
   "metadata": {},
   "outputs": [],
   "source": [
    "def gradient_descent(parameters, X, Y, learning_rate, num_itr):\n",
    "    \n",
    "    Y_pred = get_predictions(X, parameters)\n",
    "    jh = np.zeros((num_itr, 1))\n",
    "    \n",
    "    for i in range(num_itr):\n",
    "        parameters = parameters - ((learning_rate / X.shape[0]) * (X.T @ (Y_pred - Y)))\n",
    "        Y_pred = get_predictions(X, parameters)\n",
    "        jh[i] = cross_entropy_cost(Y_pred, Y)\n",
    "    \n",
    "    plt.plot(range(len(jh)), jh, 'b')\n",
    "    plt.title(\"Logistic Loss vs # of iterations\")\n",
    "    plt.xlabel(\"Number of Iterations\")\n",
    "    plt.ylabel(\"Loss\")\n",
    "    plt.show()\n",
    "    \n",
    "    return parameters"
   ]
  },
  {
   "cell_type": "code",
   "execution_count": 41,
   "metadata": {},
   "outputs": [],
   "source": [
    "X,Y = get_features_and_labels()\n",
    "X_train, X_test, Y_train, Y_test = split_data(X, Y, 0.2)\n",
    "parameters = init_parameters(X.shape[1])"
   ]
  },
  {
   "cell_type": "code",
   "execution_count": 42,
   "metadata": {},
   "outputs": [
    {
     "data": {
      "image/png": "[encoded data removed]",
      "text/plain": [
       "<Figure size 432x288 with 1 Axes>"
      ]
     },
     "metadata": {},
     "output_type": "display_data"
    }
   ],
   "source": [
    "parameters = gradient_descent(parameters, X, Y, 0.000005, 100000)"
   ]
  },
  {
   "cell_type": "code",
   "execution_count": 44,
   "metadata": {},
   "outputs": [
    {
     "data": {
      "text/plain": [
       "22.34062433811504"
      ]
     },
     "execution_count": 44,
     "metadata": {},
     "output_type": "execute_result"
    }
   ],
   "source": [
    "cross_entropy_cost(get_predictions(X_test, parameters), Y_test)"
   ]
  },
  {
   "cell_type": "code",
   "execution_count": null,
   "metadata": {},
   "outputs": [],
   "source": []
  }
 ],
 "metadata": {
  "kernelspec": {
   "display_name": "Python 3",
   "language": "python",
   "name": "python3"
  },
  "language_info": {
   "codemirror_mode": {
    "name": "ipython",
    "version": 3
   },
   "file_extension": ".py",
   "mimetype": "text/x-python",
   "name": "python",
   "nbconvert_exporter": "python",
   "pygments_lexer": "ipython3",
   "version": "3.6.4"
  }
 },
 "nbformat": 4,
 "nbformat_minor": 2
}
